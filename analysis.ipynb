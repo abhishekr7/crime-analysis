{
 "cells": [
  {
   "cell_type": "code",
   "execution_count": 2,
   "metadata": {},
   "outputs": [],
   "source": [
    "import pandas as pd\n",
    "import numpy as np"
   ]
  },
  {
   "cell_type": "code",
   "execution_count": 3,
   "metadata": {},
   "outputs": [],
   "source": [
    "# higher level categories\n",
    "crime_list = ['VANDALISM','MURDER','THEFT','DECEPTIVE PRACTICE','SEXUAL OFFENSE','ASSAULT','KIDNAPPING','HIT AND RUN']"
   ]
  },
  {
   "cell_type": "code",
   "execution_count": 4,
   "metadata": {},
   "outputs": [
    {
     "name": "stdout",
     "output_type": "stream",
     "text": [
      "analysis.ipynb  BE_PROJECT.csv\r\n"
     ]
    }
   ],
   "source": [
    "ls"
   ]
  },
  {
   "cell_type": "code",
   "execution_count": 7,
   "metadata": {},
   "outputs": [],
   "source": [
    "df = pd.read_csv('BE_PROJECT.csv')"
   ]
  },
  {
   "cell_type": "code",
   "execution_count": 31,
   "metadata": {},
   "outputs": [
    {
     "data": {
      "text/html": [
       "<div>\n",
       "<style scoped>\n",
       "    .dataframe tbody tr th:only-of-type {\n",
       "        vertical-align: middle;\n",
       "    }\n",
       "\n",
       "    .dataframe tbody tr th {\n",
       "        vertical-align: top;\n",
       "    }\n",
       "\n",
       "    .dataframe thead th {\n",
       "        text-align: right;\n",
       "    }\n",
       "</style>\n",
       "<table border=\"1\" class=\"dataframe\">\n",
       "  <thead>\n",
       "    <tr style=\"text-align: right;\">\n",
       "      <th></th>\n",
       "      <th>Date</th>\n",
       "      <th>Title</th>\n",
       "      <th>Text</th>\n",
       "      <th>Address</th>\n",
       "      <th>CATEGORY</th>\n",
       "    </tr>\n",
       "  </thead>\n",
       "  <tbody>\n",
       "    <tr>\n",
       "      <th>0</th>\n",
       "      <td>2/1/2018</td>\n",
       "      <td>Driver of ATM van flees with ₹74.5 lakh</td>\n",
       "      <td>A driver with a cash logistics firm, which pro...</td>\n",
       "      <td>Bhosari</td>\n",
       "      <td>THEFT</td>\n",
       "    </tr>\n",
       "    <tr>\n",
       "      <th>1</th>\n",
       "      <td>2/1/2018</td>\n",
       "      <td>Two men booked for outraging modesty of 29-yr-...</td>\n",
       "      <td>The police are on the lookout for two men, who...</td>\n",
       "      <td>None</td>\n",
       "      <td>None</td>\n",
       "    </tr>\n",
       "    <tr>\n",
       "      <th>2</th>\n",
       "      <td>2/1/2018</td>\n",
       "      <td>One held for murdering watchman</td>\n",
       "      <td>CCTV footage and a timely tip-off helped the B...</td>\n",
       "      <td>None</td>\n",
       "      <td>None</td>\n",
       "    </tr>\n",
       "    <tr>\n",
       "      <th>3</th>\n",
       "      <td>2/1/2018</td>\n",
       "      <td>Bike rams tractor trolley, 2 killed</td>\n",
       "      <td>A motorcyclist and his pillion rider died afte...</td>\n",
       "      <td>None</td>\n",
       "      <td>None</td>\n",
       "    </tr>\n",
       "    <tr>\n",
       "      <th>4</th>\n",
       "      <td>2/1/2018</td>\n",
       "      <td>Man held for abetting wife’s suicide</td>\n",
       "      <td>The Sangvi police on Tuesday arrested Rajendra...</td>\n",
       "      <td>None</td>\n",
       "      <td>None</td>\n",
       "    </tr>\n",
       "  </tbody>\n",
       "</table>\n",
       "</div>"
      ],
      "text/plain": [
       "       Date                                              Title  \\\n",
       "0  2/1/2018            Driver of ATM van flees with ₹74.5 lakh   \n",
       "1  2/1/2018  Two men booked for outraging modesty of 29-yr-...   \n",
       "2  2/1/2018                    One held for murdering watchman   \n",
       "3  2/1/2018               Bike rams tractor trolley, 2 killed    \n",
       "4  2/1/2018              Man held for abetting wife’s suicide    \n",
       "\n",
       "                                                Text  Address CATEGORY  \n",
       "0  A driver with a cash logistics firm, which pro...  Bhosari    THEFT  \n",
       "1  The police are on the lookout for two men, who...     None     None  \n",
       "2  CCTV footage and a timely tip-off helped the B...     None     None  \n",
       "3  A motorcyclist and his pillion rider died afte...     None     None  \n",
       "4  The Sangvi police on Tuesday arrested Rajendra...     None     None  "
      ]
     },
     "execution_count": 31,
     "metadata": {},
     "output_type": "execute_result"
    }
   ],
   "source": [
    "df.head()"
   ]
  },
  {
   "cell_type": "code",
   "execution_count": 11,
   "metadata": {},
   "outputs": [],
   "source": [
    "df.drop('Timestamp', axis = 1, inplace = True)"
   ]
  },
  {
   "cell_type": "code",
   "execution_count": 14,
   "metadata": {},
   "outputs": [],
   "source": [
    "df['Address'] = None"
   ]
  },
  {
   "cell_type": "code",
   "execution_count": 16,
   "metadata": {},
   "outputs": [],
   "source": [
    "df['CATEGORY'] = None"
   ]
  },
  {
   "cell_type": "code",
   "execution_count": 104,
   "metadata": {
    "scrolled": true
   },
   "outputs": [
    {
     "data": {
      "text/plain": [
       "'The cybercrime cell of the city police arrested a man for duping a software engineer of Rs 25,000 after promising her the services of a domestic help. The techie had got in touch with the suspect through a web portal, and she had paid Rs 25,000 for services of a maid. However, when no maid was sent, she lodged a police complaint. It has now emerged that the suspect, identified as Vikram Atar Singh (31) of Wakad, had duped over a 100 persons in the city and Pimpri Chinchwad. Singh had also cheated a woman from the Airport area and with his arrest, police have also solved that case.'"
      ]
     },
     "execution_count": 104,
     "metadata": {},
     "output_type": "execute_result"
    }
   ],
   "source": [
    "df.iloc[20]['Text']"
   ]
  },
  {
   "cell_type": "code",
   "execution_count": 106,
   "metadata": {},
   "outputs": [],
   "source": [
    "def setFunc(rec_no, address, category):\n",
    "    df.iloc[rec_no]['Address'] = address\n",
    "    df.iloc[rec_no]['CATEGORY'] = category\n",
    "    print(df.iloc[rec_no])"
   ]
  },
  {
   "cell_type": "code",
   "execution_count": 107,
   "metadata": {},
   "outputs": [
    {
     "name": "stdout",
     "output_type": "stream",
     "text": [
      "Date                                                 2/4/2018\n",
      "Title          Man arrested for false promise of maid service\n",
      "Text        The cybercrime cell of the city police arreste...\n",
      "Address                                      Pimpri Chinchwad\n",
      "CATEGORY                                   DECEPTIVE PRACTICE\n",
      "Name: 20, dtype: object\n"
     ]
    }
   ],
   "source": [
    "setFunc(20, 'Pimpri Chinchwad', 'DECEPTIVE PRACTICE')"
   ]
  },
  {
   "cell_type": "code",
   "execution_count": 108,
   "metadata": {},
   "outputs": [
    {
     "data": {
      "text/html": [
       "<div>\n",
       "<style scoped>\n",
       "    .dataframe tbody tr th:only-of-type {\n",
       "        vertical-align: middle;\n",
       "    }\n",
       "\n",
       "    .dataframe tbody tr th {\n",
       "        vertical-align: top;\n",
       "    }\n",
       "\n",
       "    .dataframe thead th {\n",
       "        text-align: right;\n",
       "    }\n",
       "</style>\n",
       "<table border=\"1\" class=\"dataframe\">\n",
       "  <thead>\n",
       "    <tr style=\"text-align: right;\">\n",
       "      <th></th>\n",
       "      <th>Date</th>\n",
       "      <th>Title</th>\n",
       "      <th>Text</th>\n",
       "      <th>Address</th>\n",
       "      <th>CATEGORY</th>\n",
       "    </tr>\n",
       "  </thead>\n",
       "  <tbody>\n",
       "    <tr>\n",
       "      <th>10</th>\n",
       "      <td>2/2/2018</td>\n",
       "      <td>Car driver held</td>\n",
       "      <td>The Hinjewadi police on Thursday arrested Dipe...</td>\n",
       "      <td>Pashan-Sutarwadi</td>\n",
       "      <td>ACCIDENT</td>\n",
       "    </tr>\n",
       "    <tr>\n",
       "      <th>11</th>\n",
       "      <td>2/2/2018</td>\n",
       "      <td>Valuables worth ₹42.87L stolen in 3 burglaries</td>\n",
       "      <td>Cash, ornaments and valuables worth Rs 42.86 l...</td>\n",
       "      <td>Vishrantwadi</td>\n",
       "      <td>THEFT</td>\n",
       "    </tr>\n",
       "    <tr>\n",
       "      <th>12</th>\n",
       "      <td>2/3/2018</td>\n",
       "      <td>Man booked for harassing 16-year-old sister-in...</td>\n",
       "      <td>The Kondhwa police have registered an offence ...</td>\n",
       "      <td>Kondhwa</td>\n",
       "      <td>SEX OFFENSE</td>\n",
       "    </tr>\n",
       "    <tr>\n",
       "      <th>13</th>\n",
       "      <td>2/3/2018</td>\n",
       "      <td>One killed in hit-and-run</td>\n",
       "      <td>A woman was killed and another person injured ...</td>\n",
       "      <td>Pune-Solapur Road</td>\n",
       "      <td>ACCIDENT</td>\n",
       "    </tr>\n",
       "    <tr>\n",
       "      <th>14</th>\n",
       "      <td>2/3/2018</td>\n",
       "      <td>Cash stolen from shop</td>\n",
       "      <td>Unidentified persons made away with Rs 4 lakh,...</td>\n",
       "      <td>Bhavani Peth</td>\n",
       "      <td>THEFT</td>\n",
       "    </tr>\n",
       "    <tr>\n",
       "      <th>15</th>\n",
       "      <td>2/3/2018</td>\n",
       "      <td>Theft in scrap kiosk</td>\n",
       "      <td>Unidentified persons broke into a scrap shop i...</td>\n",
       "      <td>Guruwar Peth</td>\n",
       "      <td>THEFT</td>\n",
       "    </tr>\n",
       "    <tr>\n",
       "      <th>16</th>\n",
       "      <td>2/3/2018</td>\n",
       "      <td>Burglary in Kothrud</td>\n",
       "      <td>A 69-year-old resident of Bhusari Colony on Pa...</td>\n",
       "      <td>Paud Road</td>\n",
       "      <td>THEFT</td>\n",
       "    </tr>\n",
       "    <tr>\n",
       "      <th>17</th>\n",
       "      <td>2/3/2018</td>\n",
       "      <td>Grocer duped of ₹81L</td>\n",
       "      <td>The Market Yard police on Thursday registered ...</td>\n",
       "      <td>Market Yard</td>\n",
       "      <td>DECEPTIVE PRACTICE</td>\n",
       "    </tr>\n",
       "    <tr>\n",
       "      <th>18</th>\n",
       "      <td>2/3/2018</td>\n",
       "      <td>3 dupe techie of ₹3.13L over fake job offer</td>\n",
       "      <td>A 30-year-old engineer working with a city-bas...</td>\n",
       "      <td>Unknown</td>\n",
       "      <td>DECEPTIVE PRACTICE</td>\n",
       "    </tr>\n",
       "    <tr>\n",
       "      <th>19</th>\n",
       "      <td>2/3/2018</td>\n",
       "      <td>Cops nab fleeing cellphone thief</td>\n",
       "      <td>The Pimpri police on Wednesday night chased an...</td>\n",
       "      <td>Pimpri</td>\n",
       "      <td>THEFT</td>\n",
       "    </tr>\n",
       "    <tr>\n",
       "      <th>20</th>\n",
       "      <td>2/4/2018</td>\n",
       "      <td>Man arrested for false promise of maid service</td>\n",
       "      <td>The cybercrime cell of the city police arreste...</td>\n",
       "      <td>Pimpri Chinchwad</td>\n",
       "      <td>DECEPTIVE PRACTICE</td>\n",
       "    </tr>\n",
       "  </tbody>\n",
       "</table>\n",
       "</div>"
      ],
      "text/plain": [
       "        Date                                              Title  \\\n",
       "10  2/2/2018                                    Car driver held   \n",
       "11  2/2/2018     Valuables worth ₹42.87L stolen in 3 burglaries   \n",
       "12  2/3/2018  Man booked for harassing 16-year-old sister-in...   \n",
       "13  2/3/2018                         One killed in hit-and-run    \n",
       "14  2/3/2018                             Cash stolen from shop    \n",
       "15  2/3/2018                              Theft in scrap kiosk    \n",
       "16  2/3/2018                                Burglary in Kothrud   \n",
       "17  2/3/2018                               Grocer duped of ₹81L   \n",
       "18  2/3/2018        3 dupe techie of ₹3.13L over fake job offer   \n",
       "19  2/3/2018                   Cops nab fleeing cellphone thief   \n",
       "20  2/4/2018     Man arrested for false promise of maid service   \n",
       "\n",
       "                                                 Text            Address  \\\n",
       "10  The Hinjewadi police on Thursday arrested Dipe...   Pashan-Sutarwadi   \n",
       "11  Cash, ornaments and valuables worth Rs 42.86 l...       Vishrantwadi   \n",
       "12  The Kondhwa police have registered an offence ...            Kondhwa   \n",
       "13  A woman was killed and another person injured ...  Pune-Solapur Road   \n",
       "14  Unidentified persons made away with Rs 4 lakh,...       Bhavani Peth   \n",
       "15  Unidentified persons broke into a scrap shop i...       Guruwar Peth   \n",
       "16  A 69-year-old resident of Bhusari Colony on Pa...          Paud Road   \n",
       "17  The Market Yard police on Thursday registered ...        Market Yard   \n",
       "18  A 30-year-old engineer working with a city-bas...            Unknown   \n",
       "19  The Pimpri police on Wednesday night chased an...             Pimpri   \n",
       "20  The cybercrime cell of the city police arreste...   Pimpri Chinchwad   \n",
       "\n",
       "              CATEGORY  \n",
       "10            ACCIDENT  \n",
       "11               THEFT  \n",
       "12         SEX OFFENSE  \n",
       "13            ACCIDENT  \n",
       "14               THEFT  \n",
       "15               THEFT  \n",
       "16               THEFT  \n",
       "17  DECEPTIVE PRACTICE  \n",
       "18  DECEPTIVE PRACTICE  \n",
       "19               THEFT  \n",
       "20  DECEPTIVE PRACTICE  "
      ]
     },
     "execution_count": 108,
     "metadata": {},
     "output_type": "execute_result"
    }
   ],
   "source": [
    "df[10:21]"
   ]
  },
  {
   "cell_type": "code",
   "execution_count": null,
   "metadata": {},
   "outputs": [],
   "source": []
  }
 ],
 "metadata": {
  "kernelspec": {
   "display_name": "Python 3",
   "language": "python",
   "name": "python3"
  },
  "language_info": {
   "codemirror_mode": {
    "name": "ipython",
    "version": 2
   },
   "file_extension": ".py",
   "mimetype": "text/x-python",
   "name": "python",
   "nbconvert_exporter": "python",
   "pygments_lexer": "ipython2",
   "version": "2.7.14"
  }
 },
 "nbformat": 4,
 "nbformat_minor": 2
}
